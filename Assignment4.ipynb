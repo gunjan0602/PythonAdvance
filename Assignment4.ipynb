{
 "cells": [
  {
   "cell_type": "markdown",
   "id": "722c58bd",
   "metadata": {},
   "source": [
    "# 1. Which two operator overloading methods can you use in your classes to support iteration?\n",
    "\n"
   ]
  },
  {
   "cell_type": "markdown",
   "id": "d8deea6b",
   "metadata": {},
   "source": [
    "iter and next are the operator overloading methods in python that support iteration and are collectively called iterator protocol.\n",
    "\n",
    "iter returns the iterator object and is called at the start of loop in our respective class.\n",
    "\n",
    "next is called at each loop increment, it returns the incremented value. Also Stopiteration is raised when there is no value to return.\n",
    "\n"
   ]
  },
  {
   "cell_type": "code",
   "execution_count": 1,
   "id": "cf257465",
   "metadata": {},
   "outputs": [
    {
     "name": "stdout",
     "output_type": "stream",
     "text": [
      "5 6 7 8 9 10 11 12 13 14 15 16 17 18 19 20 21 22 23 24 25 26 27 28 29 30 31 32 33 34 35 "
     ]
    }
   ],
   "source": [
    "class Counter:\n",
    "    def __init__(self,low,high):\n",
    "        self.current = low\n",
    "        self.high = high\n",
    "    def __iter__(self):\n",
    "        return self\n",
    "    def __next__(self):\n",
    "        if self.current > self.high:\n",
    "            raise StopIteration\n",
    "        else:\n",
    "            self.current += 1\n",
    "            return self.current - 1\n",
    "for ele in Counter(5,35):\n",
    "    print(ele, end=\" \")\n",
    "\n"
   ]
  },
  {
   "cell_type": "markdown",
   "id": "95f9f7f6",
   "metadata": {},
   "source": [
    "# 2. In what contexts do the two operator overloading methods manage printing?\n",
    "\n"
   ]
  },
  {
   "cell_type": "markdown",
   "id": "ccf0a85b",
   "metadata": {},
   "source": [
    "str and repr are two operator overloading methods that manage printing.\n",
    "\n",
    "The difference between both of these operators is: The goal of repr is to be unambiguous and str is to be readable.\n",
    "\n",
    "Whenever we are printing any object reference internally, str method will be called by default.\n",
    "\n",
    "The main purpose of str is for readability. It prints the informal string representation of an object, one that is useful for printing the object. It may not be possible to convert result string to original object.\n",
    "\n",
    "repr is used to print official string representation of an object, so it includes all information and development.\n",
    "\n"
   ]
  },
  {
   "cell_type": "code",
   "execution_count": 2,
   "id": "57bf371c",
   "metadata": {},
   "outputs": [
    {
     "name": "stdout",
     "output_type": "stream",
     "text": [
      "<__main__.Student object at 0x0000028BCD387D90>\n",
      "Student Name: Nancy and Roll No: 1\n",
      "2022-10-28 22:17:38.300614\n",
      "Unable to convert back to original object\n",
      "datetime.datetime(2022, 10, 28, 22, 17, 38, 300614)\n",
      "2022-10-28 22:17:38.300614\n"
     ]
    }
   ],
   "source": [
    "class Student:\n",
    "    def __init__(self,name,roll_no):\n",
    "        self.name = name\n",
    "        self.roll_no = roll_no\n",
    "        \n",
    "s1 = Student(\"Mano\",1)\n",
    "print(str(s1))\n",
    "\n",
    "class Student:\n",
    "    def __init__(self,name,roll_no):\n",
    "        self.name = name\n",
    "        self.roll_no = roll_no\n",
    "    def __str__(self):\n",
    "        return f'Student Name: {self.name} and Roll No: {self.roll_no}'\n",
    "    \n",
    "s1 = Student(\"Nancy\",1)\n",
    "print(str(s1))\n",
    "\n",
    "import datetime\n",
    "today = datetime.datetime.now()\n",
    "\n",
    "s = str(today) # converting datetime object to presentable str\n",
    "print(s)\n",
    "try: d = eval(s) # converting str back to datetime object\n",
    "except: print(\"Unable to convert back to original object\")\n",
    "    \n",
    "u = repr(today) # converting datetime object to str\n",
    "print(u)\n",
    "e = eval(u) # converting str back to datetime object\n",
    "print(e)\n",
    "\n"
   ]
  },
  {
   "cell_type": "markdown",
   "id": "a5b77e59",
   "metadata": {},
   "source": [
    "# 3. In a class, how do you intercept slice operations?\n",
    "\n"
   ]
  },
  {
   "cell_type": "markdown",
   "id": "62c75eb2",
   "metadata": {},
   "source": [
    "In a class use of slice(), getitem method is used for intercept slice operation. This slice method is provided with start integer number, stop integer number and step integer number.\n",
    "\n",
    "Example: getitem (slice(start,stop,step))\n"
   ]
  },
  {
   "cell_type": "markdown",
   "id": "62e936f8",
   "metadata": {},
   "source": [
    "# 4. In a class, how do you capture in-place addition?\n",
    "\n"
   ]
  },
  {
   "cell_type": "markdown",
   "id": "a99192fa",
   "metadata": {},
   "source": [
    "a+b is normal addition. Whereas a+=b is inplace addition operation. In this in-place addition a itself will store the value of addition. In a class iadd method is used for this in-place operation\n",
    "\n",
    "\n"
   ]
  },
  {
   "cell_type": "code",
   "execution_count": 3,
   "id": "b848f5be",
   "metadata": {},
   "outputs": [
    {
     "name": "stdout",
     "output_type": "stream",
     "text": [
      "1300\n"
     ]
    }
   ],
   "source": [
    "class Book:\n",
    "    def __init__(self,pages):\n",
    "        self.pages = pages\n",
    "    def __iadd__(self,other):\n",
    "        self.pages += other.pages\n",
    "        return self.pages\n",
    "        \n",
    "b1 = Book(600)\n",
    "b2 = Book(700)\n",
    "b1+=b2\n",
    "print(b1)\n"
   ]
  },
  {
   "cell_type": "markdown",
   "id": "ef3711d4",
   "metadata": {},
   "source": [
    "# 5. When is it appropriate to use operator overloading?\n",
    "\n"
   ]
  },
  {
   "cell_type": "markdown",
   "id": "1854f668",
   "metadata": {},
   "source": [
    "Operator overloading is used when we want to use an operator other than its normal operation to have different meaning according to the context required in user defined function.\n",
    "\n"
   ]
  },
  {
   "cell_type": "code",
   "execution_count": 4,
   "id": "2ba4e3f0",
   "metadata": {},
   "outputs": [
    {
     "name": "stdout",
     "output_type": "stream",
     "text": [
      "Total Number of Pages -> 1600\n"
     ]
    }
   ],
   "source": [
    "class Book:\n",
    "    def __init__(self,pages):\n",
    "        self.pages = pages\n",
    "    def __add__(self,other):\n",
    "        return self.pages+other.pages\n",
    "b1 = Book(700)\n",
    "b2 = Book(900)\n",
    "print(f'Total Number of Pages -> {b1+b2}')\n",
    "\n"
   ]
  },
  {
   "cell_type": "code",
   "execution_count": null,
   "id": "8afacc71",
   "metadata": {},
   "outputs": [],
   "source": []
  }
 ],
 "metadata": {
  "kernelspec": {
   "display_name": "Python 3",
   "language": "python",
   "name": "python3"
  },
  "language_info": {
   "codemirror_mode": {
    "name": "ipython",
    "version": 3
   },
   "file_extension": ".py",
   "mimetype": "text/x-python",
   "name": "python",
   "nbconvert_exporter": "python",
   "pygments_lexer": "ipython3",
   "version": "3.8.8"
  }
 },
 "nbformat": 4,
 "nbformat_minor": 5
}

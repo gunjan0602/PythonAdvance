{
 "cells": [
  {
   "cell_type": "markdown",
   "id": "5df53a3f",
   "metadata": {},
   "source": [
    "# Q1. What is the purpose of Python's OOP?\n",
    "\n"
   ]
  },
  {
   "cell_type": "markdown",
   "id": "4b4c3945",
   "metadata": {},
   "source": [
    "Object-oriented Programming (OOPs) is a programming paradigm that uses objects and classes in programming. It aims to implement real-world entities like inheritance, polymorphisms, encapsulation, etc. in the programming. The main concept of OOPs is to bind the data and the functions that work on that together as a single unit so that no other part of the code can access this data.\n"
   ]
  },
  {
   "cell_type": "markdown",
   "id": "10f3aff8",
   "metadata": {},
   "source": [
    "# Q2. Where does an inheritance search look for an attribute?\n",
    "\n"
   ]
  },
  {
   "cell_type": "markdown",
   "id": "02745af8",
   "metadata": {},
   "source": [
    "Python searches for an attribute in an upward tree of attributes. Tt first searches for the attribute in its instance and then looks in the class it is generated from, to all super classes listed in its class header.\n"
   ]
  },
  {
   "cell_type": "markdown",
   "id": "dab49d82",
   "metadata": {},
   "source": [
    "# Q3. How do you distinguish between a class object and an instance object?\n",
    "\n"
   ]
  },
  {
   "cell_type": "markdown",
   "id": "fd9972ce",
   "metadata": {},
   "source": [
    "The differences between a class object and an instance object are:\n",
    "\n",
    "1.Class is a template for creating objects whereas object is an instance of class\n",
    "\n",
    "2.Seperate memory is allocated for each object whenever an object is created. but for a class this doesnot happens.\n",
    "\n",
    "3.A Class is created once. Many objects are created using a class.\n",
    "\n",
    "4.As Classes have no allocated memory. they can't be manipulated. but objects can be manipulated.\n"
   ]
  },
  {
   "cell_type": "markdown",
   "id": "3440f455",
   "metadata": {},
   "source": [
    "# Q4. What makes the first argument in a class’s method function special?\n",
    "\n"
   ]
  },
  {
   "cell_type": "markdown",
   "id": "671ca3f5",
   "metadata": {},
   "source": [
    "Python Classes usually have three types of methods which are:\n",
    "\n",
    "    Instance Methods (object level methods)\n",
    "\n",
    "    Class Methods (class level methods)\n",
    "\n",
    "    Static Methods (general utility methods)\n",
    "\n",
    "    self is the first argument for instance methods. which refers to the object itself\n",
    "\n",
    "    cls is the first argument for class methods which refers to the class itself\n",
    "\n"
   ]
  },
  {
   "cell_type": "markdown",
   "id": "745f8869",
   "metadata": {},
   "source": [
    "# Q5. What is the purpose of the init method?\n",
    "\n"
   ]
  },
  {
   "cell_type": "markdown",
   "id": "36f8ae79",
   "metadata": {},
   "source": [
    "init is a reseved method in python classes. It serves the role of a constructor in object oriented terminology. This method is called when an object is created from a class and it allows the class to initialize the attributes of the class.\n"
   ]
  },
  {
   "cell_type": "markdown",
   "id": "52f8066c",
   "metadata": {},
   "source": [
    "# Q6. What is the process for creating a class instance?\n",
    "\n"
   ]
  },
  {
   "cell_type": "markdown",
   "id": "03e4fddb",
   "metadata": {},
   "source": [
    "To create a class instance, we need to call the class by its name and pass the arguments to the class, which its init method accepts.\n",
    "\n",
    "Example: my_name = my_class(\"Nancy\",\"Soni\") Here my_name is an instance of class my_class with attributes \"Nancy\" and \"Soni\".\n"
   ]
  },
  {
   "cell_type": "markdown",
   "id": "42e0104a",
   "metadata": {},
   "source": [
    "# Q7. What is the process for creating a class?\n",
    "\n"
   ]
  },
  {
   "cell_type": "markdown",
   "id": "5aea36e9",
   "metadata": {},
   "source": [
    "class keyword is used to created a class in python. The syntax to create a class in python is class :\n",
    "\n",
    "Example: class Shape: ➞ this creates a class called Shape\n"
   ]
  },
  {
   "cell_type": "markdown",
   "id": "a3044fcb",
   "metadata": {},
   "source": [
    "# Q8. How would you define the superclasses of a class?\n",
    "\n"
   ]
  },
  {
   "cell_type": "markdown",
   "id": "a144b1b1",
   "metadata": {},
   "source": [
    "Superclass/Parent class is given as a arugment to the child class\n",
    "\n",
    "Example: class Employee(Person): Here child class Employee inherits attributes and methods/functions from Superclass/Parent Person\n"
   ]
  },
  {
   "cell_type": "code",
   "execution_count": null,
   "id": "67bca0b3",
   "metadata": {},
   "outputs": [],
   "source": []
  }
 ],
 "metadata": {
  "kernelspec": {
   "display_name": "Python 3",
   "language": "python",
   "name": "python3"
  },
  "language_info": {
   "codemirror_mode": {
    "name": "ipython",
    "version": 3
   },
   "file_extension": ".py",
   "mimetype": "text/x-python",
   "name": "python",
   "nbconvert_exporter": "python",
   "pygments_lexer": "ipython3",
   "version": "3.8.8"
  }
 },
 "nbformat": 4,
 "nbformat_minor": 5
}
